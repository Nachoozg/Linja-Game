{
 "cells": [
  {
   "cell_type": "markdown",
   "metadata": {},
   "source": [
    "\n",
    "\n",
    "\n",
    "\n",
    "\n",
    "\n",
    "\n",
    "\n",
    "\n",
    "\n",
    "\n",
    "<img style=\"float:left\" width=\"70%\" src=\"pics/escudo_COLOR_1L_DCHA.png\">\n",
    "<br style=\"clear:both;\">\n",
    "\n",
    "\n",
    "# *Linja*\n",
    "### *Sistemas Inteligentes* (Curso 2023-2024)\n",
    "\n",
    "\n",
    "## Docentes\n",
    "\n",
    " - Pedro Latorre Carmona\n",
    "\n",
    "## Estudiante / Autor de la práctica\n",
    "\n",
    " - Ignacio Zaldo González"
   ]
  },
  {
   "cell_type": "markdown",
   "metadata": {},
   "source": [
    "## Código del programa\n"
   ]
  },
  {
   "cell_type": "markdown",
   "metadata": {},
   "source": [
    "#### Lo primero que hago es la parte del código sin el miniMax, es decir, toda la parte que permite jugar de manera \"manual\" al juego."
   ]
  },
  {
   "cell_type": "markdown",
   "metadata": {},
   "source": [
    "- Importo las librerias que voy a usar en el código:"
   ]
  },
  {
   "cell_type": "code",
   "execution_count": 1,
   "metadata": {},
   "outputs": [],
   "source": [
    "from copy import deepcopy\n",
    "from typing import Tuple, List\n",
    "from IPython.display import HTML, display\n",
    "from ipywidgets import HTML\n",
    "import math"
   ]
  },
  {
   "cell_type": "markdown",
   "metadata": {},
   "source": [
    "- Código con la lógica y los métodos necesarios para el funcionamiento del juego."
   ]
  },
  {
   "cell_type": "code",
   "execution_count": 2,
   "metadata": {},
   "outputs": [],
   "source": [
    "class Tablerolinja:\n",
    "    \n",
    "    def __init__(self, matrix):\n",
    "        self.setMatrix(matrix)    # Creo todas las variables globales, o variables que voy a usar en todo el código\n",
    "        self.turno = 1            # Para el turno\n",
    "        self.movimiento = 0       # Para cambiar entre movimientos (1 o 2)\n",
    "        self.fichasFila = 0       # Para almacenar el número de fichas por fila\n",
    "        self.row_nueva = 0        # Para almacenar el valor de la fila nueva\n",
    "        self.turnoExtra = False   # Para saber si hay turno extra o no\n",
    "    \n",
    "    def __eq__(self, other) -> bool:  \n",
    "        return self.getMatrix() == other.getMatrix()    # Comparo si una matriz es igual a otra diferente\n",
    "    \n",
    "    def __iter__(self):\n",
    "        return iter(self.matrix)  # Devuelvo un iterador sobre la matriz, para permitir que el tablero sea iterable\n",
    "    \n",
    "    def setMatrix(self, matrix):\n",
    "        self.matrix = deepcopy(matrix)   # Creo una copia de la matriz para igualarla a self.matrix\n",
    "    \n",
    "    def getMatrix(self) -> List[List]:\n",
    "        return deepcopy(self.matrix)     # Devuelvo una copia de la matriz\n",
    "    \n",
    "    \n",
    "    def placeTile(self, row: int, col: int, tile: int):\n",
    "        if 0 <= row < len(self.matrix) and 0 <= col < len(self.matrix[0]):  # Si la fila está entra 0 y la longitud del tablero y la columna también\n",
    "            self.matrix[row][col] = tile                                    # Pongo en esa posición de fila y columna la ficha correspondiente\n",
    "            return 1  # Indica que la ficha fue colocada con éxito\n",
    "        else:\n",
    "            raise ValueError(\"No hay ficha en esa posición o estás eligiendo una fuera de los límites del tablero\")   # En caso de fallo, lanzo este error\n",
    "    \n",
    "\n",
    "    def deleteTile(self, row: int, col: int):\n",
    "        if 0 <= row < len(self.matrix) and 0 <= col < len(self.matrix[0]):  # Si la fila está entra 0 y la longitud del tablero y la columna también\n",
    "            self.matrix[row][col] = 0                                       # Pongo en esa posición de fila y columna el valor 0, quitando así la ficha\n",
    "            return 1  # Indica que la ficha fue eliminada con éxito\n",
    "        else:\n",
    "            raise ValueError(\"No hay ficha en esa posición o estás eligiendo una fuera de los límites del tablero\")   # En caso de fallo, lanzo este error\n",
    "\n",
    "    \n",
    "    def utility(self) -> int:\n",
    "        valores_filas = [5, 3, 2, 1, -1, -2, -3, -5]    # Puntuación asignada a cada una de las filas del tablero\n",
    "        total_utility_rojo = 0                          # Variables para conseguir la puntuación de cada jugador\n",
    "        total_utility_negro = 0\n",
    "        \n",
    "        mitad_tablero = len(self.matrix) // 2           # Para obtener la mitad del tablero\n",
    "\n",
    "        for row in range(len(self.matrix)):                     # Recorro las filas\n",
    "            for col in range(len(self.matrix[0])):              # Recorro las columnas\n",
    "                ficha = self.matrix[row][col]                   # Guardo en ficha el valor de esa fila y columna\n",
    "                if ficha == 1:                                          # Si el valor es 1 (ficha jugador negro)\n",
    "                    if row < mitad_tablero:                             # Calculo de esta manera los valores\n",
    "                        total_utility_rojo -= valores_filas[row]\n",
    "                    else:\n",
    "                        total_utility_rojo += valores_filas[row]\n",
    "                elif ficha == 2:                                        # Si el valor es 2 (ficha jugador rojo)\n",
    "                    if row >= mitad_tablero:                            # Calculo de esta otra manera los valores\n",
    "                        total_utility_negro -= valores_filas[row]\n",
    "                    else:\n",
    "                        total_utility_negro += valores_filas[row]            \n",
    "        return total_utility_rojo - total_utility_negro        # Devuelvo la diferencia entre las puntuaciones de los jugadores\n",
    "    \n",
    "    \n",
    "    def numFichasEnFila(self, row ) -> int:        # Esta función lo que hace es calcular el número de fichas que tiene una fila, para así calcular el segundo movimiento de los jugadores correctamente\n",
    "        numFichas = 0                    # Creo la variable\n",
    "        fila = self.matrix[row]          # Guardo la fila\n",
    "        for i in fila:                   # Recorro las filas\n",
    "            if i != 0:                   # Si hay ficha\n",
    "                numFichas += 1           # Sumo 1 al valor de la variable que había creado\n",
    "        return numFichas                 # Devuelvo el número de fichas de la fila pasada por parámetro\n",
    "    \n",
    "\n",
    "    def cambiarTurno(self):              # En esta función, lo que hago es cambiar el turno de los jugadores\n",
    "        if self.turno == 1:              # Si el turno es 1 cambio al turno 2\n",
    "            self.turno = 2\n",
    "        elif self.turno == 2:            # Si el turno es 2 cambio al turno 1\n",
    "            self.turno = 1\n",
    "\n",
    "\n",
    "    def comprobarPosicion(self, row, col):              # Esta función la utilizo para ver si la posición de la ficha y la columna escogida está dentro del tablero\n",
    "        if row < 0 or row >= len(self.matrix) or col < 0 or col >= len(self.matrix[0]):           # Si la posición no está dentro del tablero devuelvo False\n",
    "            return False\n",
    "        \n",
    "        if self.matrix[row][col] == 0 or self.matrix[row][col] == self.turno:                     # Verifico si la posición está vacía o tiene una ficha del mismo color y devuelvo True\n",
    "            return True\n",
    "        \n",
    "        if (row == 0 and self.matrix[row][col] == 2) or (row == len(self.matrix) - 1 and self.matrix[row][col] == 1):  # Verifico si la posición está en el extremo opuesto y tiene una ficha del color contrario\n",
    "            if self.matrix[row][col] == 1 - self.turno:\n",
    "                return True\n",
    "\n",
    "        return False         # En cualquier otro caso, la posición no es válida\n",
    "    \n",
    "    \n",
    "    def moverFicha(self, row, col):        # Esta función es la que utilizo para el movimiento de las fichas\n",
    "        ficha = self.matrix[row][col]      # Obtengo la ficha en la posición actual\n",
    "        \n",
    "        if ficha != 0 and ficha != self.turno:            # Verifico que la ficha en la posición actual coincide con el turno actual\n",
    "            print(\"No puedes mover una ficha del otro jugador.\")\n",
    "\n",
    "        # Llamo al método correspondiente según el tipo de movimiento\n",
    "        if self.movimiento == 0:         # Si el valor de movimiento es 0\n",
    "            resultado_movimiento = self.movimiento1(row, col)           # Llamo al primer movimiento y devuelvo el resultado\n",
    "        elif self.movimiento == 1:       # Si el valor de movimiento es 0\n",
    "            resultado_movimiento = self.movimiento2(row, col)           # Llamo al segundo movimiento y devuelvo el resultado\n",
    "        \n",
    "        if self.finJuego():     # Si el juego finaliza\n",
    "            print(\"El juego ha terminado, no mueva más fichas\")   # Imprimo la advertencia por pantalla\n",
    "            self.endGame()                                        # Llamo a endGame\n",
    "        return resultado_movimiento                   # Devuelvo resultado del movimiento correspondiente\n",
    "    \n",
    "    \n",
    "    def movimiento1(self, row, col):           # En esta función hago el primer movimiento de los jugadores\n",
    "        ficha = self.matrix[row][col]          # Almaceno el valor de la ficha en la posición seleccionada\n",
    "        \n",
    "        # Calculo la nueva fila a la que se moverá la ficha\n",
    "        if(row + 1 <= 7 and ficha == 1):        \n",
    "            self.row_nueva = row + 1\n",
    "        elif(row - 1 >= 0  and ficha == 2):\n",
    "            self.row_nueva = row - 1\n",
    "        elif(row + 1 > 7 and ficha == 1):\n",
    "            self.row_nueva = 7\n",
    "        elif(row - 1 < 0 and ficha == 2):\n",
    "            self.row_nueva = 0\n",
    "        else:\n",
    "            return 0\n",
    "        \n",
    "        # Verifico si el jugador no alcanzó el extremo opuesto\n",
    "        if 0 <= self.row_nueva < len(self.matrix):\n",
    "            col_nueva = col\n",
    "            # Verifico si hay ficha en la fila de destino\n",
    "            if self.matrix[self.row_nueva][col] != 0:\n",
    "                col_candidata = col_nueva\n",
    "                # Creo una variable booleana que indique si se ha encontrado una columna vacía\n",
    "                encontrado = False\n",
    "                i = 1  # Comienzo con el primer desplazamiento\n",
    "                # Si hay ficha en la columna destino, desplazo lateralmente hacia la derecha o izquierda\n",
    "                while i <= 5 and not encontrado:\n",
    "                    col_candidata = col_nueva + i\n",
    "                    # Verifico si la columna candidata está dentro del rango válido\n",
    "                    if 0 <= col_candidata < len(self.matrix[0]):\n",
    "                        # Verifico si la columna candidata está vacía\n",
    "                        if self.matrix[self.row_nueva][col_candidata] == 0:\n",
    "                            # Asigno la columna candidata a la variable col_nueva\n",
    "                            col_nueva = col_candidata\n",
    "                            # Cambio el valor de la variable encontrado a True\n",
    "                            encontrado = True\n",
    "                            # Rompo el bucle cuando se encuentre una columna vacía\n",
    "                            break\n",
    "                    i += 1\n",
    "                i = 1  # Restablezco el valor de i para el desplazamiento hacia la izquierda\n",
    "                while i <= 5 and not encontrado:\n",
    "                    col_candidata = col_nueva - i\n",
    "                    # Verifico si la columna candidata está dentro del rango válido\n",
    "                    if 0 <= col_candidata < len(self.matrix[0]):\n",
    "                        # Verifico si la columna candidata está vacía\n",
    "                        if self.matrix[self.row_nueva][col_candidata] == 0:\n",
    "                            # Asigno la columna candidata a la variable col_nueva\n",
    "                            col_nueva = col_candidata\n",
    "                            # Cambio el valor de la variable encontrado a True\n",
    "                            encontrado = True\n",
    "                            # Rompo el bucle cuando se encuentre una columna vacía\n",
    "                            break\n",
    "                    i += 1  \n",
    "                # Verifico si la nueva posición es válida\n",
    "                if self.comprobarPosicion(self.row_nueva, col_nueva):\n",
    "                    self.fichasFila = self.numFichasEnFila(self.row_nueva)\n",
    "                    if self.numFichasEnFila(self.row_nueva) > 0:\n",
    "                        # Cambio el valor del atributo movimiento a 1, indicando que se puede hacer el segundo movimiento\n",
    "                        self.movimiento = 1           \n",
    "                    elif self.numFichasEnFila(self.row_nueva) == 0:\n",
    "                        self.cambiarTurno()    \n",
    "                    # Muevo la ficha\n",
    "                    self.deleteTile(row, col)\n",
    "                    self.placeTile(self.row_nueva, col_nueva, ficha)\n",
    "                    return 1\n",
    "            else:\n",
    "                # Verifico si la nueva posición es válida\n",
    "                if self.comprobarPosicion(self.row_nueva, col):\n",
    "                    self.fichasFila = self.numFichasEnFila(self.row_nueva)\n",
    "                    if self.numFichasEnFila(self.row_nueva) > 0:\n",
    "                        # Cambio el valor del atributo movimiento a 1, indicando que se puede hacer el segundo movimiento\n",
    "                        self.movimiento = 1           \n",
    "                    elif self.numFichasEnFila(self.row_nueva) == 0:\n",
    "                        self.cambiarTurno() \n",
    "                    # Muevo la ficha\n",
    "                    self.deleteTile(row, col)\n",
    "                    self.placeTile(self.row_nueva, col, ficha)\n",
    "                    return 1\n",
    "        return 0\n",
    "    \n",
    "    \n",
    "    def movimiento2(self, row, col):                # En esta función hago el segundo movimiento de los jugadores\n",
    "        ficha = self.matrix[row][col]               # Almaceno el valor de la ficha en la posición seleccionada\n",
    "        # Uso el valor de row que se ha pasado como parámetro\n",
    "        row_nueva = row\n",
    "        # Creo una variable booleana que indica si el jugador ha llegado al extremo opuesto\n",
    "        extremo_opuesto = False\n",
    "        if self.comprobarPosicion(row_nueva, col):\n",
    "            # Obtengo el número de fichas en la fila a la que se movió la ficha en el primer movimiento\n",
    "            num_fichas_en_fila = self.fichasFila \n",
    "            if num_fichas_en_fila == 0: \n",
    "                row_nueva = row\n",
    "            else:                                   # Compruebo las posiciones de fila nueva posibles para todos los casos\n",
    "                if(row + num_fichas_en_fila <= 7 and ficha == 1):\n",
    "                    row_nueva = row + num_fichas_en_fila\n",
    "                elif(row - num_fichas_en_fila >= 0  and ficha == 2):\n",
    "                    row_nueva = row - num_fichas_en_fila\n",
    "                elif(row + num_fichas_en_fila > 7 and ficha == 1):\n",
    "                    row_nueva = 7\n",
    "                elif(row - num_fichas_en_fila < 0 and ficha == 2):\n",
    "                    row_nueva = 0\n",
    "                else:\n",
    "                    return 0\n",
    "            col_primera = col\n",
    "            if row_nueva == 7 and ficha == 1:  # Si la fila nueva es la 7 y la ficha 1, hago el movimiento y pongo que he llegado al extremo opuesto\n",
    "                if self.matrix[row][col] != 0:\n",
    "                    col = 0\n",
    "                self.deleteTile(row, col_primera)\n",
    "                self.placeTile(row_nueva, col, ficha) \n",
    "                extremo_opuesto = True\n",
    "            elif row_nueva == 0 and ficha == 2: # Si la fila nueva es la 0 y la ficha 2, hago el movimiento y pongo que he llegado al extremo opuesto\n",
    "                if self.matrix[row][col] != 0:\n",
    "                    col = 0\n",
    "                self.deleteTile(row, col_primera)\n",
    "                self.placeTile(row_nueva, col, ficha) \n",
    "                extremo_opuesto = True    \n",
    "            col_nueva = col\n",
    "            # Verifico si el jugador no alcanzó el extremo opuesto\n",
    "            if row_nueva not in [0, len(self.matrix)] and not extremo_opuesto:\n",
    "                # Verifico si hay ficha en la fila de destino\n",
    "                if self.matrix[row_nueva][col] != 0:\n",
    "                    col_candidata = col_nueva\n",
    "                    # Si hay ficha, desplazo lateralmente hacia la derecha o izquierda\n",
    "                    # Creo una variable booleana que indique si se ha encontrado una columna vacía\n",
    "                    encontrado = False\n",
    "                    i = 1  # Empiezo con el primer desplazamiento\n",
    "                    while i <= 5 and not encontrado:\n",
    "                        col_candidata = col_nueva + i\n",
    "                        # Verifico si la columna candidata está dentro del rango válido\n",
    "                        if 0 <= col_candidata < len(self.matrix[0]):\n",
    "                            # Verificar si la columna candidata está vacía\n",
    "                            if self.matrix[row_nueva][col_candidata] == 0:\n",
    "                                # Asigno la columna candidata a la variable col_nueva\n",
    "                                col_nueva = col_candidata\n",
    "                                # Cambio el valor de la variable encontrado a True\n",
    "                                encontrado = True\n",
    "                                # Rompo el bucle cuando se encuentre una columna vacía\n",
    "                                break\n",
    "                        i += 1\n",
    "                    i = 1  # Restablezco el valor de i para el desplazamiento hacia la izquierda\n",
    "                    while i <= 5 and not encontrado:\n",
    "                        col_candidata = col_nueva - i\n",
    "                        # Verifico si la columna candidata está dentro del rango válido\n",
    "                        if 0 <= col_candidata < len(self.matrix[0]):\n",
    "                            # Verifico si la columna candidata está vacía\n",
    "                            if self.matrix[row_nueva][col_candidata] == 0:\n",
    "                                # Asigno la columna candidata a la variable col_nueva\n",
    "                                col_nueva = col_candidata\n",
    "                                # Cambio el valor de la variable encontrado a True\n",
    "                                encontrado = True\n",
    "                                # Rompo el bucle cuando se encuentre una columna vacía\n",
    "                                break\n",
    "                        i += 1\n",
    "                    # Verifico si la nueva posición es válida\n",
    "                    if self.comprobarPosicion(row_nueva, col_nueva):\n",
    "                        self.fichasFila = self.numFichasEnFila(row_nueva)   \n",
    "                        # Muevo la ficha\n",
    "                        self.deleteTile(row, col)\n",
    "                        self.placeTile(row_nueva, col_nueva, ficha)\n",
    "                else:\n",
    "                    # Verifico si la nueva posición es válida\n",
    "                    if self.comprobarPosicion(row_nueva, col):\n",
    "                        self.fichasFila = self.numFichasEnFila(row_nueva)        \n",
    "                        # Muevo la ficha\n",
    "                        self.deleteTile(row, col)\n",
    "                        self.placeTile(row_nueva, col, ficha)\n",
    "            # Verifico si la ficha no cae en una fila vacía\n",
    "            if self.numFichasEnFila(row_nueva) - 1 > 0:\n",
    "                # Cambio el valor del atributo movimiento a 1, indicando que se puede hacer el segundo movimiento\n",
    "                self.movimiento = 0\n",
    "                if self.turnoExtra == 1:\n",
    "                    self.turnoExtra = False                                             \n",
    "            elif self.numFichasEnFila(row_nueva) - 1 == 0:\n",
    "                self.movimiento = 0\n",
    "                self.turnoExtra = True\n",
    "            if self.turnoExtra == False:\n",
    "                self.cambiarTurno()  \n",
    "            return 1\n",
    "        else:\n",
    "            return 0\n",
    "\n",
    "    \n",
    "    def finJuego(self):     # En esta función veo si se han sobrepasado las fichas de los 2 jugadores para ver si ha terminado el juego\n",
    "        # Inicializo las variables que guardan la posición de la ficha más atrasada de cada tipo de ficha\n",
    "        fila_2 = -1\n",
    "        col_2 = -1\n",
    "        fila_1 = len (self.matrix) \n",
    "        col_1 = len (self.matrix[0])\n",
    "\n",
    "        # Recorro el tablero de arriba a abajo para buscar la ficha más atrasada de las fichas 2\n",
    "        for i in range (len (self.matrix)):\n",
    "            # Si hay alguna ficha 2 en la fila i, uso index (2) para obtener su columna\n",
    "            if 2 in self.matrix [i]:\n",
    "                j = self.matrix [i].index (2)\n",
    "                # Si la fila i es mayor que la fila guardada, o si la fila es la misma pero la columna es menor, actualizo la posición de la ficha más atrasada\n",
    "                if i > fila_2 or (i == fila_2 and j < col_2):\n",
    "                    fila_2 = i\n",
    "                    col_2 = j\n",
    "        # Recorro el tablero de abajo a arriba para buscar la ficha más atrasada de las fichas 1\n",
    "        for i in range (len (self.matrix) - 1, -1, -1):\n",
    "            # Si hay alguna ficha 1 en la fila i, uso index (1) para obtener su columna\n",
    "            if 1 in self.matrix [i]:\n",
    "                j = self.matrix [i].index (1)\n",
    "                # Si la fila i es menor que la fila guardada, o si la fila es la misma pero la columna es menor, actualizo la posición de la ficha más atrasada\n",
    "                if i < fila_1 or (i == fila_1 and j < col_1):\n",
    "                    fila_1 = i\n",
    "                    col_1 = j\n",
    "        \n",
    "        if fila_2 < fila_1:\n",
    "            return True\n",
    "        return False\n",
    "        \n",
    "\n",
    "    def endGame(self) -> int:   # Función para determinar qué jugador es el ganador\n",
    "        utilidad = self.utility()\n",
    "        \n",
    "        if utilidad > 0:\n",
    "            return 1  # Rojo gana\n",
    "        elif utilidad < 0:\n",
    "            return 2  # Negro gana\n",
    "        else:\n",
    "            return 0  # Empate\n",
    "    \n",
    "    \n",
    "    def get_content(self,row,col):   # Esta función la utilizo para asignar el número de ficha a un tipo de imagen, para la visualización del tablero HTML\n",
    "        \n",
    "        contenido = [None]\n",
    "\n",
    "        if self.matrix[row][col] == 0:\n",
    "            contenido[0] = \"casillavacia\"\n",
    "        elif self.matrix[row][col]  == 1:\n",
    "            contenido[0] = \"casillanegra\"\n",
    "        elif self.matrix[row][col]  == 2:\n",
    "            contenido[0] = \"casillaroja\"\n",
    "                \n",
    "        return contenido\n",
    "    \n",
    "    \n",
    "    def get_html(self):            # Esta función sirve para representar el tablero del juego\n",
    "        element_image = {          # Elijo las imagenes que voy a usar\n",
    "            \"casillavacia\": \"./ImagenesCasillasLinja/CasillaVacia.png\",\n",
    "            \"casillanegra\": \"./ImagenesCasillasLinja/CasillaNegra.png\",\n",
    "            \"casillaroja\": \"./ImagenesCasillasLinja/casillaRoja.png\"\n",
    "        }\n",
    "        height = len(self.matrix)\n",
    "        width = len(self.matrix[0])\n",
    "\n",
    "        html_string = \"<style> img.game {width: 50px !important; height: 40px !important;}</style><table>\"  # Elijo una altura y anchura para que se vea bien el tablero\n",
    "\n",
    "        for i in range(height):        # Represento el tablero\n",
    "            new_row = \"<tr>\"\n",
    "            for j in range(width):\n",
    "                content = self.get_content(i, j)\n",
    "                drawing = element_image[content[0]]\n",
    "                html = '<td><img class=\"game\" src=%s alt=\"\"></img></td>' % drawing\n",
    "                new_row += html\n",
    "\n",
    "            new_row += \"</tr>\"\n",
    "            html_string += new_row\n",
    "\n",
    "        html_string += \"</table>\"\n",
    "        return html_string\n",
    "        \n",
    "    \n",
    "    def moveCanBeMade(self, player: int) -> bool:       # Esta función la utilizo después en miniMax y sirve para ver si el movimiento se puede hacer o no\n",
    "        for row in range(len(self.matrix)):             # Recorro filas y columnas\n",
    "            for col in range(len(self.matrix[0])):\n",
    "                if self.comprobarPosicion(row, col) and self.matrix[row][col] == player:            # Si la posición es valida devuelvo true\n",
    "                    return True\n",
    "        return False\n",
    "    \n",
    "    \n",
    "    def generateSuccessors(self, player):               # Esta función la utilizo después en miniMax y sirve para obtener los sucesores\n",
    "        successors = []\n",
    "        for row in range(len(self.matrix)):             # Recorro filas y columnas\n",
    "            for col in range(len(self.matrix[0])):\n",
    "                successorBoard_ = Tablerolinja(self.matrix)             # Hago una copia del tablero original\n",
    "                if successorBoard_.comprobarPosicion(row, col):         # Si la posición es valida\n",
    "                    successorBoard_.moverFicha(row,col)                 # Muevo la ficha  \n",
    "                    for row_iter in range(len(self.matrix)):            # Recorro filas y columnas de nuevo\n",
    "                        for col_iter in range(len(self.matrix[0])):    \n",
    "                            successorBoard = deepcopy(successorBoard_)   # Copio el tablero anterior\n",
    "                            if successorBoard.comprobarPosicion(row_iter, col_iter):  # Si la posición es valida\n",
    "                                successorBoard.moverFicha(row_iter, col_iter)         # Muevo la ficha\n",
    "                                if len(successors) == 10:  # Limito el número de sucesores para que no esté demasiado tiempo pensando el programa, porque cada vez que lo llame en miniMax generará 10 nuevos sucesores\n",
    "                                    break\n",
    "                                if successorBoard.turno == 2:          # Compruebo si el turno es 2 para evitar algunos errores\n",
    "                                    successors.append(successorBoard)       # Relleno la lista de sucesores\n",
    "            return successors \n",
    "      \n",
    "        \n",
    "matrix = [[1, 1, 1, 1, 1, 1],\n",
    "          [1, 0, 0, 0, 0, 2],\n",
    "          [1, 0, 0, 0, 0, 2],\n",
    "          [1, 0, 0, 0, 0, 2],\n",
    "          [1, 0, 0, 0, 0, 2],\n",
    "          [1, 0, 0, 0, 0, 2],\n",
    "          [1, 0, 0, 0, 0, 2],\n",
    "          [2, 2, 2, 2, 2, 2]]\n",
    "\n",
    "tablero = Tablerolinja(matrix)\n",
    "html = tablero.get_html()\n"
   ]
  },
  {
   "cell_type": "markdown",
   "metadata": {},
   "source": [
    "---\n",
    "## Función Minimax (con poda $\\alpha-\\beta$)"
   ]
  },
  {
   "cell_type": "markdown",
   "metadata": {},
   "source": [
    "##### El código es similar al proporcionado desde un principio, solo he modificado las funciones moveCanBeMade y generateSuccessors, las cuales he creado arriba en la parte del código principal.\n",
    "##### Además, he cambiado los mat, dejandolos simplemente como mat = successorMatrices[i] para que no diera errores a la hora de ejecutar.\n",
    "---"
   ]
  },
  {
   "cell_type": "code",
   "execution_count": 3,
   "metadata": {},
   "outputs": [],
   "source": [
    "\n",
    "def miniMax(state:Tablerolinja, currentLevel:int, maxLevel:int, player:int, alpha:int, beta:int, stop:bool) -> Tuple[Tablerolinja, int, bool]:\n",
    "\n",
    "    matriz=state.getMatrix() # Obtengo la matriz del estado actual\n",
    "    \n",
    "    successorMatrices = []  # Defino las matrices de sucesores\n",
    "    \n",
    "    if (not state.moveCanBeMade(player) or currentLevel == maxLevel): # Se para si no se pueden realizar más movimientos o se alcanza el nivel máximo\n",
    "        return (state.matrix,state.utility(),stop)\n",
    "    \n",
    "    successorMatrices = state.generateSuccessors(player)\n",
    "    \n",
    "    # Creo el método generateSuccessors arriba, en la parte del código principal\n",
    "    if len(successorMatrices) == 0:   # Si no hay sucesores, se detiene la búsqueda\n",
    "        stopDigging = True\n",
    "        coste=state.utility()\n",
    "        return (state,coste,stopDigging)\n",
    "    \n",
    "    bestMatrix = None\n",
    "            \n",
    "    if player == 2:                    \n",
    "        maxValue = -math.inf #alpha\n",
    "        \n",
    "        for i in range(0, len(successorMatrices)):             \n",
    "                mat = successorMatrices[i]  # Cambio el Tablerolinja(successorMatrices[i]) por esto para que no de el error: object of type 'Tablerolinja' has no len()   \n",
    "                # Llamada recursiva para evaluar el sucesor\n",
    "                matrizS, utility, stop = miniMax(mat, currentLevel + 1, maxLevel, 1, alpha,beta,stop)\n",
    "                best = utility \n",
    "                # Se actualiza el mejor movimiento\n",
    "                if best > maxValue:\n",
    "                    maxValue = best\n",
    "                    bestMatrix = mat\n",
    "                alpha = max(alpha, best)                \n",
    "                # Poda beta\n",
    "                if best >= beta:                 \n",
    "                    return (matrizS,best,stop)     \n",
    "    else:                           \n",
    "        minValue = math.inf #beta\n",
    "        for i in range(0, len(successorMatrices)):\n",
    "                mat = successorMatrices[i]  # Cambio el Tablerolinja(successorMatrices[i]) por esto para que no de el error: object of type 'Tablerolinja' has no len()   \n",
    "                # Llamada recursiva para evaluar el sucesor\n",
    "                matrizS, utility, stop = miniMax(mat, currentLevel + 1, maxLevel, 2, alpha,beta,stop)\n",
    "                if utility < minValue:\n",
    "                    minValue = utility\n",
    "                    bestMatrix = mat\n",
    "                beta = min(beta, utility)\n",
    "                # Poda alfa\n",
    "                if utility <= alpha:                    \n",
    "                   return (matrizS,utility,stop)\n",
    "             \n",
    "    return (bestMatrix,utility,stop) # Devuelve el mejor movimiento, su utilidad y el indicador de parada\n"
   ]
  },
  {
   "cell_type": "markdown",
   "metadata": {},
   "source": [
    "---\n",
    "### Poner en funcionamiento Minimax\n",
    "---"
   ]
  },
  {
   "cell_type": "code",
   "execution_count": 4,
   "metadata": {},
   "outputs": [],
   "source": [
    "def performActionMinMax(state: Tablerolinja, player: int):\n",
    "    matrizB = state.getMatrix() # Se copia la matriz del estado actual\n",
    "    tmpMatriz = [row[:] for row in matrizB]\n",
    "    depth = 2  # Establezco la profundidad de búsqueda que voy a usar\n",
    "    # Inicializo la matriz óptima y el indicador de parada\n",
    "    matrizoptima = tmpMatriz\n",
    "    stop = False\n",
    "\n",
    "    # Bucle para iterar hasta 3 veces o hasta que se cumpla la condición de parada\n",
    "    for itera in range(3):\n",
    "        # Creo una instancia de Tablerolinja con la matriz temporal\n",
    "        tmpMatrizB = Tablerolinja(tmpMatriz)\n",
    "        # Llamo a la función miniMax para encontrar el mejor movimiento y valor\n",
    "        (matrizoptima, valoroptimo, stop) = miniMax(tmpMatrizB, 0, depth, player, -math.inf, math.inf, stop)\n",
    "\n",
    "    # Devuevlo tanto la matriz óptima como el valor óptimo\n",
    "    return matrizoptima, valoroptimo\n"
   ]
  },
  {
   "cell_type": "markdown",
   "metadata": {},
   "source": [
    "---\n",
    "## EJECUCIÓN DEL JUEGO\n",
    "\n",
    "##### El valor que sale como resultado del utility es el valor de las fichas rojas menos el valor de las fichas negras\n",
    "---"
   ]
  },
  {
   "cell_type": "code",
   "execution_count": 5,
   "metadata": {},
   "outputs": [
    {
     "data": {
      "application/vnd.jupyter.widget-view+json": {
       "model_id": "e24ba06ef61d4a2cb3fdd2a8e5690bee",
       "version_major": 2,
       "version_minor": 0
      },
      "text/plain": [
       "HTML(value='<style> img.game {width: 50px !important; height: 40px !important;}</style><table><tr><td><img cla…"
      ]
     },
     "metadata": {},
     "output_type": "display_data"
    },
    {
     "name": "stdout",
     "output_type": "stream",
     "text": [
      "Tablero tras el movimiento de la máquina:\n"
     ]
    },
    {
     "data": {
      "application/vnd.jupyter.widget-view+json": {
       "model_id": "01ee5909448c40c389845241de55970d",
       "version_major": 2,
       "version_minor": 0
      },
      "text/plain": [
       "HTML(value='<style> img.game {width: 50px !important; height: 40px !important;}</style><table><tr><td><img cla…"
      ]
     },
     "metadata": {},
     "output_type": "display_data"
    },
    {
     "name": "stdout",
     "output_type": "stream",
     "text": [
      "Valor utility: -78\n",
      "Por favor, especifica la fila y la columna donde está la ficha que quieres mover:\n",
      "Fila de la ficha que se desea mover: 7\n",
      "Columna de la ficha que se desea mover: 1\n",
      "Tablero tras el movimiento de la persona:\n"
     ]
    },
    {
     "data": {
      "application/vnd.jupyter.widget-view+json": {
       "model_id": "0774c06d16e7459cb097cd8b5366873b",
       "version_major": 2,
       "version_minor": 0
      },
      "text/plain": [
       "HTML(value='<style> img.game {width: 50px !important; height: 40px !important;}</style><table><tr><td><img cla…"
      ]
     },
     "metadata": {},
     "output_type": "display_data"
    },
    {
     "name": "stdout",
     "output_type": "stream",
     "text": [
      "Por favor, especifica la fila y la columna donde está la ficha que quieres mover:\n",
      "Fila de la ficha que se desea mover: 7\n",
      "Columna de la ficha que se desea mover: 3\n",
      "Tablero tras el movimiento de la persona:\n"
     ]
    },
    {
     "data": {
      "application/vnd.jupyter.widget-view+json": {
       "model_id": "08879b458ffe4f0882229fcd3eee429d",
       "version_major": 2,
       "version_minor": 0
      },
      "text/plain": [
       "HTML(value='<style> img.game {width: 50px !important; height: 40px !important;}</style><table><tr><td><img cla…"
      ]
     },
     "metadata": {},
     "output_type": "display_data"
    },
    {
     "name": "stdout",
     "output_type": "stream",
     "text": [
      "Tablero tras el movimiento de la máquina:\n"
     ]
    },
    {
     "data": {
      "application/vnd.jupyter.widget-view+json": {
       "model_id": "829c2dd1904c45bfa47c9e3dbf118364",
       "version_major": 2,
       "version_minor": 0
      },
      "text/plain": [
       "HTML(value='<style> img.game {width: 50px !important; height: 40px !important;}</style><table><tr><td><img cla…"
      ]
     },
     "metadata": {},
     "output_type": "display_data"
    },
    {
     "name": "stdout",
     "output_type": "stream",
     "text": [
      "Valor utility: -68\n",
      "Por favor, especifica la fila y la columna donde está la ficha que quieres mover:\n",
      "Fila de la ficha que se desea mover: 7\n",
      "Columna de la ficha que se desea mover: 5\n",
      "Tablero tras el movimiento de la persona:\n"
     ]
    },
    {
     "data": {
      "application/vnd.jupyter.widget-view+json": {
       "model_id": "1449675ec3774d15b8e9749d43808a00",
       "version_major": 2,
       "version_minor": 0
      },
      "text/plain": [
       "HTML(value='<style> img.game {width: 50px !important; height: 40px !important;}</style><table><tr><td><img cla…"
      ]
     },
     "metadata": {},
     "output_type": "display_data"
    },
    {
     "name": "stdout",
     "output_type": "stream",
     "text": [
      "Por favor, especifica la fila y la columna donde está la ficha que quieres mover:\n",
      "Fila de la ficha que se desea mover: 7\n",
      "Columna de la ficha que se desea mover: 0\n",
      "Tablero tras el movimiento de la persona:\n"
     ]
    },
    {
     "data": {
      "application/vnd.jupyter.widget-view+json": {
       "model_id": "fbb5f808dc1a470f8fde9b933f2c55a9",
       "version_major": 2,
       "version_minor": 0
      },
      "text/plain": [
       "HTML(value='<style> img.game {width: 50px !important; height: 40px !important;}</style><table><tr><td><img cla…"
      ]
     },
     "metadata": {},
     "output_type": "display_data"
    },
    {
     "name": "stdout",
     "output_type": "stream",
     "text": [
      "Tablero tras el movimiento de la máquina:\n"
     ]
    },
    {
     "data": {
      "application/vnd.jupyter.widget-view+json": {
       "model_id": "003f89d30b50461b82070a2aa0b8f07b",
       "version_major": 2,
       "version_minor": 0
      },
      "text/plain": [
       "HTML(value='<style> img.game {width: 50px !important; height: 40px !important;}</style><table><tr><td><img cla…"
      ]
     },
     "metadata": {},
     "output_type": "display_data"
    },
    {
     "name": "stdout",
     "output_type": "stream",
     "text": [
      "Valor utility: -66\n",
      "Por favor, especifica la fila y la columna donde está la ficha que quieres mover:\n",
      "Fila de la ficha que se desea mover: 7\n",
      "Columna de la ficha que se desea mover: 2\n",
      "Tablero tras el movimiento de la persona:\n"
     ]
    },
    {
     "data": {
      "application/vnd.jupyter.widget-view+json": {
       "model_id": "7cdd525cbc4e47d4a6f49c42d82bac90",
       "version_major": 2,
       "version_minor": 0
      },
      "text/plain": [
       "HTML(value='<style> img.game {width: 50px !important; height: 40px !important;}</style><table><tr><td><img cla…"
      ]
     },
     "metadata": {},
     "output_type": "display_data"
    },
    {
     "name": "stdout",
     "output_type": "stream",
     "text": [
      "Por favor, especifica la fila y la columna donde está la ficha que quieres mover:\n",
      "Fila de la ficha que se desea mover: 7\n",
      "Columna de la ficha que se desea mover: 4\n",
      "Tablero tras el movimiento de la persona:\n"
     ]
    },
    {
     "data": {
      "application/vnd.jupyter.widget-view+json": {
       "model_id": "02cb65dbe8b74587b90982d050155b10",
       "version_major": 2,
       "version_minor": 0
      },
      "text/plain": [
       "HTML(value='<style> img.game {width: 50px !important; height: 40px !important;}</style><table><tr><td><img cla…"
      ]
     },
     "metadata": {},
     "output_type": "display_data"
    },
    {
     "name": "stdout",
     "output_type": "stream",
     "text": [
      "Tablero tras el movimiento de la máquina:\n"
     ]
    },
    {
     "data": {
      "application/vnd.jupyter.widget-view+json": {
       "model_id": "45dc9d47d03c4064b10e8ec511c5b969",
       "version_major": 2,
       "version_minor": 0
      },
      "text/plain": [
       "HTML(value='<style> img.game {width: 50px !important; height: 40px !important;}</style><table><tr><td><img cla…"
      ]
     },
     "metadata": {},
     "output_type": "display_data"
    },
    {
     "name": "stdout",
     "output_type": "stream",
     "text": [
      "Valor utility: -59\n",
      "Por favor, especifica la fila y la columna donde está la ficha que quieres mover:\n",
      "Fila de la ficha que se desea mover: 6\n",
      "Columna de la ficha que se desea mover: 2\n",
      "Tablero tras el movimiento de la persona:\n"
     ]
    },
    {
     "data": {
      "application/vnd.jupyter.widget-view+json": {
       "model_id": "409151d54d1d4890b488c613e89428c0",
       "version_major": 2,
       "version_minor": 0
      },
      "text/plain": [
       "HTML(value='<style> img.game {width: 50px !important; height: 40px !important;}</style><table><tr><td><img cla…"
      ]
     },
     "metadata": {},
     "output_type": "display_data"
    },
    {
     "name": "stdout",
     "output_type": "stream",
     "text": [
      "Por favor, especifica la fila y la columna donde está la ficha que quieres mover:\n",
      "Fila de la ficha que se desea mover: 4\n",
      "Columna de la ficha que se desea mover: 1\n",
      "Tablero tras el movimiento de la persona:\n"
     ]
    },
    {
     "data": {
      "application/vnd.jupyter.widget-view+json": {
       "model_id": "8b893ef5d009469e8b31d32c58a49383",
       "version_major": 2,
       "version_minor": 0
      },
      "text/plain": [
       "HTML(value='<style> img.game {width: 50px !important; height: 40px !important;}</style><table><tr><td><img cla…"
      ]
     },
     "metadata": {},
     "output_type": "display_data"
    },
    {
     "name": "stdout",
     "output_type": "stream",
     "text": [
      "Por favor, especifica la fila y la columna donde está la ficha que quieres mover:\n",
      "Fila de la ficha que se desea mover: 6\n",
      "Columna de la ficha que se desea mover: 2\n",
      "Tablero tras el movimiento de la persona:\n"
     ]
    },
    {
     "data": {
      "application/vnd.jupyter.widget-view+json": {
       "model_id": "7d1b7908ce3841c2965f65a954a353ae",
       "version_major": 2,
       "version_minor": 0
      },
      "text/plain": [
       "HTML(value='<style> img.game {width: 50px !important; height: 40px !important;}</style><table><tr><td><img cla…"
      ]
     },
     "metadata": {},
     "output_type": "display_data"
    },
    {
     "name": "stdout",
     "output_type": "stream",
     "text": [
      "Tablero tras el movimiento de la máquina:\n"
     ]
    },
    {
     "data": {
      "application/vnd.jupyter.widget-view+json": {
       "model_id": "c969a395c39048f6b598dd49e3b7e54a",
       "version_major": 2,
       "version_minor": 0
      },
      "text/plain": [
       "HTML(value='<style> img.game {width: 50px !important; height: 40px !important;}</style><table><tr><td><img cla…"
      ]
     },
     "metadata": {},
     "output_type": "display_data"
    },
    {
     "name": "stdout",
     "output_type": "stream",
     "text": [
      "Valor utility: -59\n",
      "Tablero tras el movimiento de la máquina:\n"
     ]
    },
    {
     "data": {
      "application/vnd.jupyter.widget-view+json": {
       "model_id": "678655f957fc4a5c98ae97138c4a7af2",
       "version_major": 2,
       "version_minor": 0
      },
      "text/plain": [
       "HTML(value='<style> img.game {width: 50px !important; height: 40px !important;}</style><table><tr><td><img cla…"
      ]
     },
     "metadata": {},
     "output_type": "display_data"
    },
    {
     "name": "stdout",
     "output_type": "stream",
     "text": [
      "Valor utility: -59\n",
      "Se ha detenido la ejecución, porque sino solo se va a imprimir este mismo tablero infinitas veces hasta que se termine la ejecución manualmente.\n"
     ]
    }
   ],
   "source": [
    "def jugar(state: Tablerolinja, max_repeticiones: int = 2):\n",
    "    # Inicializo el estado actual y variables de control\n",
    "    resultMinMax = Tablerolinja(matrix)\n",
    "    turno = resultMinMax.turno\n",
    "    repeticiones = 0  # Contador de repeticiones\n",
    "    estado_anterior = None  # Almaceno el estado anterior al último movimiento\n",
    "\n",
    "    # Bucle principal del juego\n",
    "    while not tablero.finJuego() and repeticiones < max_repeticiones:\n",
    "        if resultMinMax.turno == 1:\n",
    "            # Turno de la máquina: Guardo el estado antes de realizar el movimiento\n",
    "            estado_anterior = Tablerolinja(resultMinMax.getMatrix())\n",
    "            resultMinMax, valueMinMax = performActionMinMax(resultMinMax, 1)\n",
    "            print(\"Tablero tras el movimiento de la máquina:\")\n",
    "            html = resultMinMax.get_html()\n",
    "            display(HTML(html))\n",
    "            print(\"Valor utility:\", valueMinMax)\n",
    "\n",
    "        elif resultMinMax.turno == 2:\n",
    "            # Turno del jugador: Solicito entrada y realizar movimiento\n",
    "            while True:\n",
    "                try:\n",
    "                    print(\"Por favor, especifica la fila y la columna donde está la ficha que quieres mover:\")\n",
    "                    fila = int(input(\"Fila de la ficha que se desea mover: \"))\n",
    "                    columna = int(input(\"Columna de la ficha que se desea mover: \"))\n",
    "                    resultMinMax.moverFicha(fila, columna)\n",
    "                    break\n",
    "                except ValueError:\n",
    "                    print(\"Por favor, ingresa valores numéricos válidos.\")\n",
    "\n",
    "            html = resultMinMax.get_html()\n",
    "            print(\"Tablero tras el movimiento de la persona:\")\n",
    "            display(HTML(html))\n",
    "\n",
    "        # Verifico si el tablero es igual al estado anterior al último movimiento\n",
    "        if estado_anterior is not None and resultMinMax == estado_anterior:\n",
    "            repeticiones += 1\n",
    "        else:\n",
    "            repeticiones = 0  # Reinicio el contador si no es igual\n",
    "\n",
    "    # Muestro el resultado final o informo sobre la detención de la ejecución por algún error en los movimientos\n",
    "    if repeticiones >= max_repeticiones:\n",
    "        print(\"Se ha detenido la ejecución, para que no se imprimir este mismo tablero infinitas veces.\")\n",
    "    else:\n",
    "        print(\"Resultado final:\", valueMinMax)\n",
    "\n",
    "# Mostrar el tablero inicial\n",
    "display(HTML(tablero.get_html()))\n",
    "jugar(tablero)"
   ]
  }
 ],
 "metadata": {
  "kernelspec": {
   "display_name": "Python 3 (ipykernel)",
   "language": "python",
   "name": "python3"
  },
  "language_info": {
   "codemirror_mode": {
    "name": "ipython",
    "version": 3
   },
   "file_extension": ".py",
   "mimetype": "text/x-python",
   "name": "python",
   "nbconvert_exporter": "python",
   "pygments_lexer": "ipython3",
   "version": "3.11.4"
  }
 },
 "nbformat": 4,
 "nbformat_minor": 2
}
